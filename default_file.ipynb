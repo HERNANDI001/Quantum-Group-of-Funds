{
  "nbformat": 4,
  "nbformat_minor": 0,
  "metadata": {
    "colab": {
      "provenance": [],
      "include_colab_link": true
    },
    "kernelspec": {
      "name": "python3",
      "display_name": "Python 3"
    },
    "language_info": {
      "name": "python"
    }
  },
  "cells": [
    {
      "cell_type": "markdown",
      "metadata": {
        "id": "view-in-github",
        "colab_type": "text"
      },
      "source": [
        "<a href=\"https://colab.research.google.com/github/samgomes0305/Quantum-Group-of-Funds/blob/main/default_file.ipynb\" target=\"_parent\"><img src=\"https://colab.research.google.com/assets/colab-badge.svg\" alt=\"Open In Colab\"/></a>"
      ]
    },
    {
      "cell_type": "code",
      "source": [
        "import pandas as pd\n",
        "import numpy as np\n",
        "import seaborn as sns\n",
        "import matplotlib.pyplot as plt"
      ],
      "metadata": {
        "id": "WVZtcq5aaz9S"
      },
      "execution_count": null,
      "outputs": []
    },
    {
      "cell_type": "code",
      "execution_count": null,
      "metadata": {
        "id": "Y2Tb9z8pauLr",
        "colab": {
          "base_uri": "https://localhost:8080/",
          "height": 424
        },
        "outputId": "146117e3-0571-4d3e-c41a-b1f373bc3bc2"
      },
      "outputs": [
        {
          "output_type": "execute_result",
          "data": {
            "text/plain": [
              "           Name Symbol        Date         High          Low         Open  \\\n",
              "0          Aave   AAVE  2020-10-05    55.112358    49.787900    52.675035   \n",
              "1          Aave   AAVE  2020-10-06    53.402270    40.734578    53.291969   \n",
              "2          Aave   AAVE  2020-10-07    42.408314    35.970690    42.399947   \n",
              "3          Aave   AAVE  2020-10-08    44.902511    36.696057    39.885262   \n",
              "4          Aave   AAVE  2020-10-09    47.569533    43.291776    43.764463   \n",
              "...         ...    ...         ...          ...          ...          ...   \n",
              "15628  Ethereum    ETH  2021-07-02  2155.596496  2021.824808  2109.892677   \n",
              "15629  Ethereum    ETH  2021-07-03  2237.567155  2117.590013  2150.835025   \n",
              "15630  Ethereum    ETH  2021-07-04  2384.286857  2190.837703  2226.550382   \n",
              "15631  Ethereum    ETH  2021-07-05  2321.922836  2163.041394  2321.922836   \n",
              "15632  Ethereum    ETH  2021-07-06  2346.294874  2197.919385  2197.919385   \n",
              "\n",
              "             Close        Volume     Marketcap  \n",
              "0        53.219243  0.000000e+00  8.912813e+07  \n",
              "1        42.401599  5.830915e+05  7.101144e+07  \n",
              "2        40.083976  6.828342e+05  6.713004e+07  \n",
              "3        43.764463  1.658817e+06  2.202651e+08  \n",
              "4        46.817744  8.155377e+05  2.356322e+08  \n",
              "...            ...           ...           ...  \n",
              "15628  2150.040364  3.179621e+10  2.505527e+11  \n",
              "15629  2226.114282  1.743336e+10  2.594475e+11  \n",
              "15630  2321.724112  1.878711e+10  2.706217e+11  \n",
              "15631  2198.582464  2.010379e+10  2.562978e+11  \n",
              "15632  2324.679449  2.089186e+10  2.710286e+11  \n",
              "\n",
              "[15633 rows x 9 columns]"
            ],
            "text/html": [
              "\n",
              "  <div id=\"df-bd0037ee-0499-43c9-af1a-e6ff00dccd11\" class=\"colab-df-container\">\n",
              "    <div>\n",
              "<style scoped>\n",
              "    .dataframe tbody tr th:only-of-type {\n",
              "        vertical-align: middle;\n",
              "    }\n",
              "\n",
              "    .dataframe tbody tr th {\n",
              "        vertical-align: top;\n",
              "    }\n",
              "\n",
              "    .dataframe thead th {\n",
              "        text-align: right;\n",
              "    }\n",
              "</style>\n",
              "<table border=\"1\" class=\"dataframe\">\n",
              "  <thead>\n",
              "    <tr style=\"text-align: right;\">\n",
              "      <th></th>\n",
              "      <th>Name</th>\n",
              "      <th>Symbol</th>\n",
              "      <th>Date</th>\n",
              "      <th>High</th>\n",
              "      <th>Low</th>\n",
              "      <th>Open</th>\n",
              "      <th>Close</th>\n",
              "      <th>Volume</th>\n",
              "      <th>Marketcap</th>\n",
              "    </tr>\n",
              "  </thead>\n",
              "  <tbody>\n",
              "    <tr>\n",
              "      <th>0</th>\n",
              "      <td>Aave</td>\n",
              "      <td>AAVE</td>\n",
              "      <td>2020-10-05</td>\n",
              "      <td>55.112358</td>\n",
              "      <td>49.787900</td>\n",
              "      <td>52.675035</td>\n",
              "      <td>53.219243</td>\n",
              "      <td>0.000000e+00</td>\n",
              "      <td>8.912813e+07</td>\n",
              "    </tr>\n",
              "    <tr>\n",
              "      <th>1</th>\n",
              "      <td>Aave</td>\n",
              "      <td>AAVE</td>\n",
              "      <td>2020-10-06</td>\n",
              "      <td>53.402270</td>\n",
              "      <td>40.734578</td>\n",
              "      <td>53.291969</td>\n",
              "      <td>42.401599</td>\n",
              "      <td>5.830915e+05</td>\n",
              "      <td>7.101144e+07</td>\n",
              "    </tr>\n",
              "    <tr>\n",
              "      <th>2</th>\n",
              "      <td>Aave</td>\n",
              "      <td>AAVE</td>\n",
              "      <td>2020-10-07</td>\n",
              "      <td>42.408314</td>\n",
              "      <td>35.970690</td>\n",
              "      <td>42.399947</td>\n",
              "      <td>40.083976</td>\n",
              "      <td>6.828342e+05</td>\n",
              "      <td>6.713004e+07</td>\n",
              "    </tr>\n",
              "    <tr>\n",
              "      <th>3</th>\n",
              "      <td>Aave</td>\n",
              "      <td>AAVE</td>\n",
              "      <td>2020-10-08</td>\n",
              "      <td>44.902511</td>\n",
              "      <td>36.696057</td>\n",
              "      <td>39.885262</td>\n",
              "      <td>43.764463</td>\n",
              "      <td>1.658817e+06</td>\n",
              "      <td>2.202651e+08</td>\n",
              "    </tr>\n",
              "    <tr>\n",
              "      <th>4</th>\n",
              "      <td>Aave</td>\n",
              "      <td>AAVE</td>\n",
              "      <td>2020-10-09</td>\n",
              "      <td>47.569533</td>\n",
              "      <td>43.291776</td>\n",
              "      <td>43.764463</td>\n",
              "      <td>46.817744</td>\n",
              "      <td>8.155377e+05</td>\n",
              "      <td>2.356322e+08</td>\n",
              "    </tr>\n",
              "    <tr>\n",
              "      <th>...</th>\n",
              "      <td>...</td>\n",
              "      <td>...</td>\n",
              "      <td>...</td>\n",
              "      <td>...</td>\n",
              "      <td>...</td>\n",
              "      <td>...</td>\n",
              "      <td>...</td>\n",
              "      <td>...</td>\n",
              "      <td>...</td>\n",
              "    </tr>\n",
              "    <tr>\n",
              "      <th>15628</th>\n",
              "      <td>Ethereum</td>\n",
              "      <td>ETH</td>\n",
              "      <td>2021-07-02</td>\n",
              "      <td>2155.596496</td>\n",
              "      <td>2021.824808</td>\n",
              "      <td>2109.892677</td>\n",
              "      <td>2150.040364</td>\n",
              "      <td>3.179621e+10</td>\n",
              "      <td>2.505527e+11</td>\n",
              "    </tr>\n",
              "    <tr>\n",
              "      <th>15629</th>\n",
              "      <td>Ethereum</td>\n",
              "      <td>ETH</td>\n",
              "      <td>2021-07-03</td>\n",
              "      <td>2237.567155</td>\n",
              "      <td>2117.590013</td>\n",
              "      <td>2150.835025</td>\n",
              "      <td>2226.114282</td>\n",
              "      <td>1.743336e+10</td>\n",
              "      <td>2.594475e+11</td>\n",
              "    </tr>\n",
              "    <tr>\n",
              "      <th>15630</th>\n",
              "      <td>Ethereum</td>\n",
              "      <td>ETH</td>\n",
              "      <td>2021-07-04</td>\n",
              "      <td>2384.286857</td>\n",
              "      <td>2190.837703</td>\n",
              "      <td>2226.550382</td>\n",
              "      <td>2321.724112</td>\n",
              "      <td>1.878711e+10</td>\n",
              "      <td>2.706217e+11</td>\n",
              "    </tr>\n",
              "    <tr>\n",
              "      <th>15631</th>\n",
              "      <td>Ethereum</td>\n",
              "      <td>ETH</td>\n",
              "      <td>2021-07-05</td>\n",
              "      <td>2321.922836</td>\n",
              "      <td>2163.041394</td>\n",
              "      <td>2321.922836</td>\n",
              "      <td>2198.582464</td>\n",
              "      <td>2.010379e+10</td>\n",
              "      <td>2.562978e+11</td>\n",
              "    </tr>\n",
              "    <tr>\n",
              "      <th>15632</th>\n",
              "      <td>Ethereum</td>\n",
              "      <td>ETH</td>\n",
              "      <td>2021-07-06</td>\n",
              "      <td>2346.294874</td>\n",
              "      <td>2197.919385</td>\n",
              "      <td>2197.919385</td>\n",
              "      <td>2324.679449</td>\n",
              "      <td>2.089186e+10</td>\n",
              "      <td>2.710286e+11</td>\n",
              "    </tr>\n",
              "  </tbody>\n",
              "</table>\n",
              "<p>15633 rows × 9 columns</p>\n",
              "</div>\n",
              "    <div class=\"colab-df-buttons\">\n",
              "\n",
              "  <div class=\"colab-df-container\">\n",
              "    <button class=\"colab-df-convert\" onclick=\"convertToInteractive('df-bd0037ee-0499-43c9-af1a-e6ff00dccd11')\"\n",
              "            title=\"Convert this dataframe to an interactive table.\"\n",
              "            style=\"display:none;\">\n",
              "\n",
              "  <svg xmlns=\"http://www.w3.org/2000/svg\" height=\"24px\" viewBox=\"0 -960 960 960\">\n",
              "    <path d=\"M120-120v-720h720v720H120Zm60-500h600v-160H180v160Zm220 220h160v-160H400v160Zm0 220h160v-160H400v160ZM180-400h160v-160H180v160Zm440 0h160v-160H620v160ZM180-180h160v-160H180v160Zm440 0h160v-160H620v160Z\"/>\n",
              "  </svg>\n",
              "    </button>\n",
              "\n",
              "  <style>\n",
              "    .colab-df-container {\n",
              "      display:flex;\n",
              "      gap: 12px;\n",
              "    }\n",
              "\n",
              "    .colab-df-convert {\n",
              "      background-color: #E8F0FE;\n",
              "      border: none;\n",
              "      border-radius: 50%;\n",
              "      cursor: pointer;\n",
              "      display: none;\n",
              "      fill: #1967D2;\n",
              "      height: 32px;\n",
              "      padding: 0 0 0 0;\n",
              "      width: 32px;\n",
              "    }\n",
              "\n",
              "    .colab-df-convert:hover {\n",
              "      background-color: #E2EBFA;\n",
              "      box-shadow: 0px 1px 2px rgba(60, 64, 67, 0.3), 0px 1px 3px 1px rgba(60, 64, 67, 0.15);\n",
              "      fill: #174EA6;\n",
              "    }\n",
              "\n",
              "    .colab-df-buttons div {\n",
              "      margin-bottom: 4px;\n",
              "    }\n",
              "\n",
              "    [theme=dark] .colab-df-convert {\n",
              "      background-color: #3B4455;\n",
              "      fill: #D2E3FC;\n",
              "    }\n",
              "\n",
              "    [theme=dark] .colab-df-convert:hover {\n",
              "      background-color: #434B5C;\n",
              "      box-shadow: 0px 1px 3px 1px rgba(0, 0, 0, 0.15);\n",
              "      filter: drop-shadow(0px 1px 2px rgba(0, 0, 0, 0.3));\n",
              "      fill: #FFFFFF;\n",
              "    }\n",
              "  </style>\n",
              "\n",
              "    <script>\n",
              "      const buttonEl =\n",
              "        document.querySelector('#df-bd0037ee-0499-43c9-af1a-e6ff00dccd11 button.colab-df-convert');\n",
              "      buttonEl.style.display =\n",
              "        google.colab.kernel.accessAllowed ? 'block' : 'none';\n",
              "\n",
              "      async function convertToInteractive(key) {\n",
              "        const element = document.querySelector('#df-bd0037ee-0499-43c9-af1a-e6ff00dccd11');\n",
              "        const dataTable =\n",
              "          await google.colab.kernel.invokeFunction('convertToInteractive',\n",
              "                                                    [key], {});\n",
              "        if (!dataTable) return;\n",
              "\n",
              "        const docLinkHtml = 'Like what you see? Visit the ' +\n",
              "          '<a target=\"_blank\" href=https://colab.research.google.com/notebooks/data_table.ipynb>data table notebook</a>'\n",
              "          + ' to learn more about interactive tables.';\n",
              "        element.innerHTML = '';\n",
              "        dataTable['output_type'] = 'display_data';\n",
              "        await google.colab.output.renderOutput(dataTable, element);\n",
              "        const docLink = document.createElement('div');\n",
              "        docLink.innerHTML = docLinkHtml;\n",
              "        element.appendChild(docLink);\n",
              "      }\n",
              "    </script>\n",
              "  </div>\n",
              "\n",
              "\n",
              "<div id=\"df-8d77dcec-f12e-4288-b2de-af95ecaa6807\">\n",
              "  <button class=\"colab-df-quickchart\" onclick=\"quickchart('df-8d77dcec-f12e-4288-b2de-af95ecaa6807')\"\n",
              "            title=\"Suggest charts\"\n",
              "            style=\"display:none;\">\n",
              "\n",
              "<svg xmlns=\"http://www.w3.org/2000/svg\" height=\"24px\"viewBox=\"0 0 24 24\"\n",
              "     width=\"24px\">\n",
              "    <g>\n",
              "        <path d=\"M19 3H5c-1.1 0-2 .9-2 2v14c0 1.1.9 2 2 2h14c1.1 0 2-.9 2-2V5c0-1.1-.9-2-2-2zM9 17H7v-7h2v7zm4 0h-2V7h2v10zm4 0h-2v-4h2v4z\"/>\n",
              "    </g>\n",
              "</svg>\n",
              "  </button>\n",
              "\n",
              "<style>\n",
              "  .colab-df-quickchart {\n",
              "      --bg-color: #E8F0FE;\n",
              "      --fill-color: #1967D2;\n",
              "      --hover-bg-color: #E2EBFA;\n",
              "      --hover-fill-color: #174EA6;\n",
              "      --disabled-fill-color: #AAA;\n",
              "      --disabled-bg-color: #DDD;\n",
              "  }\n",
              "\n",
              "  [theme=dark] .colab-df-quickchart {\n",
              "      --bg-color: #3B4455;\n",
              "      --fill-color: #D2E3FC;\n",
              "      --hover-bg-color: #434B5C;\n",
              "      --hover-fill-color: #FFFFFF;\n",
              "      --disabled-bg-color: #3B4455;\n",
              "      --disabled-fill-color: #666;\n",
              "  }\n",
              "\n",
              "  .colab-df-quickchart {\n",
              "    background-color: var(--bg-color);\n",
              "    border: none;\n",
              "    border-radius: 50%;\n",
              "    cursor: pointer;\n",
              "    display: none;\n",
              "    fill: var(--fill-color);\n",
              "    height: 32px;\n",
              "    padding: 0;\n",
              "    width: 32px;\n",
              "  }\n",
              "\n",
              "  .colab-df-quickchart:hover {\n",
              "    background-color: var(--hover-bg-color);\n",
              "    box-shadow: 0 1px 2px rgba(60, 64, 67, 0.3), 0 1px 3px 1px rgba(60, 64, 67, 0.15);\n",
              "    fill: var(--button-hover-fill-color);\n",
              "  }\n",
              "\n",
              "  .colab-df-quickchart-complete:disabled,\n",
              "  .colab-df-quickchart-complete:disabled:hover {\n",
              "    background-color: var(--disabled-bg-color);\n",
              "    fill: var(--disabled-fill-color);\n",
              "    box-shadow: none;\n",
              "  }\n",
              "\n",
              "  .colab-df-spinner {\n",
              "    border: 2px solid var(--fill-color);\n",
              "    border-color: transparent;\n",
              "    border-bottom-color: var(--fill-color);\n",
              "    animation:\n",
              "      spin 1s steps(1) infinite;\n",
              "  }\n",
              "\n",
              "  @keyframes spin {\n",
              "    0% {\n",
              "      border-color: transparent;\n",
              "      border-bottom-color: var(--fill-color);\n",
              "      border-left-color: var(--fill-color);\n",
              "    }\n",
              "    20% {\n",
              "      border-color: transparent;\n",
              "      border-left-color: var(--fill-color);\n",
              "      border-top-color: var(--fill-color);\n",
              "    }\n",
              "    30% {\n",
              "      border-color: transparent;\n",
              "      border-left-color: var(--fill-color);\n",
              "      border-top-color: var(--fill-color);\n",
              "      border-right-color: var(--fill-color);\n",
              "    }\n",
              "    40% {\n",
              "      border-color: transparent;\n",
              "      border-right-color: var(--fill-color);\n",
              "      border-top-color: var(--fill-color);\n",
              "    }\n",
              "    60% {\n",
              "      border-color: transparent;\n",
              "      border-right-color: var(--fill-color);\n",
              "    }\n",
              "    80% {\n",
              "      border-color: transparent;\n",
              "      border-right-color: var(--fill-color);\n",
              "      border-bottom-color: var(--fill-color);\n",
              "    }\n",
              "    90% {\n",
              "      border-color: transparent;\n",
              "      border-bottom-color: var(--fill-color);\n",
              "    }\n",
              "  }\n",
              "</style>\n",
              "\n",
              "  <script>\n",
              "    async function quickchart(key) {\n",
              "      const quickchartButtonEl =\n",
              "        document.querySelector('#' + key + ' button');\n",
              "      quickchartButtonEl.disabled = true;  // To prevent multiple clicks.\n",
              "      quickchartButtonEl.classList.add('colab-df-spinner');\n",
              "      try {\n",
              "        const charts = await google.colab.kernel.invokeFunction(\n",
              "            'suggestCharts', [key], {});\n",
              "      } catch (error) {\n",
              "        console.error('Error during call to suggestCharts:', error);\n",
              "      }\n",
              "      quickchartButtonEl.classList.remove('colab-df-spinner');\n",
              "      quickchartButtonEl.classList.add('colab-df-quickchart-complete');\n",
              "    }\n",
              "    (() => {\n",
              "      let quickchartButtonEl =\n",
              "        document.querySelector('#df-8d77dcec-f12e-4288-b2de-af95ecaa6807 button');\n",
              "      quickchartButtonEl.style.display =\n",
              "        google.colab.kernel.accessAllowed ? 'block' : 'none';\n",
              "    })();\n",
              "  </script>\n",
              "</div>\n",
              "\n",
              "  <div id=\"id_18380fe0-9e25-4b89-bdba-0831703e2767\">\n",
              "    <style>\n",
              "      .colab-df-generate {\n",
              "        background-color: #E8F0FE;\n",
              "        border: none;\n",
              "        border-radius: 50%;\n",
              "        cursor: pointer;\n",
              "        display: none;\n",
              "        fill: #1967D2;\n",
              "        height: 32px;\n",
              "        padding: 0 0 0 0;\n",
              "        width: 32px;\n",
              "      }\n",
              "\n",
              "      .colab-df-generate:hover {\n",
              "        background-color: #E2EBFA;\n",
              "        box-shadow: 0px 1px 2px rgba(60, 64, 67, 0.3), 0px 1px 3px 1px rgba(60, 64, 67, 0.15);\n",
              "        fill: #174EA6;\n",
              "      }\n",
              "\n",
              "      [theme=dark] .colab-df-generate {\n",
              "        background-color: #3B4455;\n",
              "        fill: #D2E3FC;\n",
              "      }\n",
              "\n",
              "      [theme=dark] .colab-df-generate:hover {\n",
              "        background-color: #434B5C;\n",
              "        box-shadow: 0px 1px 3px 1px rgba(0, 0, 0, 0.15);\n",
              "        filter: drop-shadow(0px 1px 2px rgba(0, 0, 0, 0.3));\n",
              "        fill: #FFFFFF;\n",
              "      }\n",
              "    </style>\n",
              "    <button class=\"colab-df-generate\" onclick=\"generateWithVariable('df')\"\n",
              "            title=\"Generate code using this dataframe.\"\n",
              "            style=\"display:none;\">\n",
              "\n",
              "  <svg xmlns=\"http://www.w3.org/2000/svg\" height=\"24px\"viewBox=\"0 0 24 24\"\n",
              "       width=\"24px\">\n",
              "    <path d=\"M7,19H8.4L18.45,9,17,7.55,7,17.6ZM5,21V16.75L18.45,3.32a2,2,0,0,1,2.83,0l1.4,1.43a1.91,1.91,0,0,1,.58,1.4,1.91,1.91,0,0,1-.58,1.4L9.25,21ZM18.45,9,17,7.55Zm-12,3A5.31,5.31,0,0,0,4.9,8.1,5.31,5.31,0,0,0,1,6.5,5.31,5.31,0,0,0,4.9,4.9,5.31,5.31,0,0,0,6.5,1,5.31,5.31,0,0,0,8.1,4.9,5.31,5.31,0,0,0,12,6.5,5.46,5.46,0,0,0,6.5,12Z\"/>\n",
              "  </svg>\n",
              "    </button>\n",
              "    <script>\n",
              "      (() => {\n",
              "      const buttonEl =\n",
              "        document.querySelector('#id_18380fe0-9e25-4b89-bdba-0831703e2767 button.colab-df-generate');\n",
              "      buttonEl.style.display =\n",
              "        google.colab.kernel.accessAllowed ? 'block' : 'none';\n",
              "\n",
              "      buttonEl.onclick = () => {\n",
              "        google.colab.notebook.generateWithVariable('df');\n",
              "      }\n",
              "      })();\n",
              "    </script>\n",
              "  </div>\n",
              "\n",
              "    </div>\n",
              "  </div>\n"
            ],
            "application/vnd.google.colaboratory.intrinsic+json": {
              "type": "dataframe",
              "variable_name": "df",
              "repr_error": "'str' object has no attribute 'empty'"
            }
          },
          "metadata": {},
          "execution_count": 62
        }
      ],
      "source": [
        "url = \"https://raw.githubusercontent.com/samgomes0305/Quantum-Group-of-Funds/main/src/all_coin.csv\"\n",
        "\n",
        "df = pd.read_csv(url)\n",
        "df"
      ]
    },
    {
      "cell_type": "code",
      "source": [
        "# Converte para tipo datetime\n",
        "df['Date'] = pd.to_datetime(df['Date'])"
      ],
      "metadata": {
        "id": "K7a_hoUYpoB0"
      },
      "execution_count": null,
      "outputs": []
    },
    {
      "cell_type": "markdown",
      "source": [
        "2. Quais os valores médios para todas as criptomoedas?"
      ],
      "metadata": {
        "id": "3FQb1qeFB4BI"
      }
    },
    {
      "cell_type": "code",
      "source": [
        "# Calcula os valores médios das criptomoedas\n",
        "# Seleciona apenas as colunas de interesse\n",
        "media_valores = df.groupby('Name')[['High', 'Low', 'Open', 'Close']].mean()\n",
        "print(\"Valores médios para todas as criptomoedas:\")\n",
        "print(media_valores)"
      ],
      "metadata": {
        "id": "rcQXid2RB4IY",
        "colab": {
          "base_uri": "https://localhost:8080/"
        },
        "outputId": "81ce7afc-86c3-407e-f058-3b9089bad42b"
      },
      "execution_count": null,
      "outputs": [
        {
          "output_type": "stream",
          "name": "stdout",
          "text": [
            "Valores médios para todas as criptomoedas:\n",
            "                        High          Low         Open        Close\n",
            "Name                                                               \n",
            "Aave              271.306751   237.736035   254.506688   255.525845\n",
            "Binance Coin       54.764100    49.165813    52.028231    52.250308\n",
            "Bitcoin          6893.326038  6486.009539  6700.146240  6711.290443\n",
            "Cardano             0.269807     0.239710     0.255287     0.256313\n",
            "Chainlink           6.633357     5.920968     6.294481     6.308583\n",
            "Cosmos              7.141688     6.367329     6.759896     6.768099\n",
            "Crypto.com Coin     0.085467     0.078565     0.081802     0.081912\n",
            "Dogecoin            0.014964     0.012402     0.013669     0.013763\n",
            "EOS                 4.839459     4.384314     4.623294     4.624088\n",
            "Ethereum          398.258568   365.592589   382.879899   383.910691\n"
          ]
        }
      ]
    },
    {
      "cell_type": "markdown",
      "source": [
        "3. Em quais anos houve maiores quedas e valorizações?\n"
      ],
      "metadata": {
        "id": "F7FVn7c2JeAq"
      }
    },
    {
      "cell_type": "code",
      "source": [
        "# prompt: Em quais anos houve maiores quedas e valorizações?\n",
        "\n",
        "# Calcula a variação percentual entre os preços de fechamento de cada dia\n",
        "df['Daily_return'] = (df['Close'] - df['Open']) / df['Open']\n",
        "\n",
        "# Agrupa por ano e calcula a média da variação percentual\n",
        "grouped_df = df.groupby(df['Date'].dt.year)['Daily_return'].mean()\n",
        "\n",
        "# Encontra os anos com as maiores quedas e valorizações\n",
        "min_year = grouped_df.sort_values().index[0]\n",
        "max_year = grouped_df.sort_values(ascending=False).index[0]\n",
        "\n",
        "print(f\"O ano com maior queda foi {min_year} com um retorno médio diário de {grouped_df[min_year]:.2%}\")\n",
        "print(f\"O ano com maior ganho foi {max_year} com um retorno médio diário de {grouped_df[max_year]:.2%}\")\n"
      ],
      "metadata": {
        "id": "7sVzejadoLaW",
        "colab": {
          "base_uri": "https://localhost:8080/"
        },
        "outputId": "96a30da1-8c0a-4823-ab7c-6401677cedd6"
      },
      "execution_count": null,
      "outputs": [
        {
          "output_type": "stream",
          "name": "stdout",
          "text": [
            "O ano com maior queda foi 2018 com um retorno médio diário de -0.15%\n",
            "O ano com maior ganho foi 2017 com um retorno médio diário de 1.84%\n"
          ]
        }
      ]
    },
    {
      "cell_type": "markdown",
      "source": [
        "4. Existe alguma tendência de aumento ou queda dos valores pelo dia da semana?"
      ],
      "metadata": {
        "id": "tCkcwT1jAc9q"
      }
    },
    {
      "cell_type": "code",
      "source": [
        "# Converter a coluna de data para o tipo datetime\n",
        "df['Date'] = pd.to_datetime(df['Date'])\n",
        "\n",
        "# Extrair o dia da semana\n",
        "df['Dia_da_Semana'] = df['Date'].dt.day_name()\n",
        "\n",
        "# Calcular a média dos valores (por exemplo, Close) para cada dia da semana\n",
        "media_por_dia_da_semana = df.groupby('Dia_da_Semana')['Close'].mean()\n",
        "\n",
        "# Definir a ordem dos dias da semana\n",
        "ordem_dias_da_semana = ['Monday', 'Tuesday', 'Wednesday', 'Thursday', 'Friday', 'Saturday', 'Sunday']\n",
        "\n",
        "# Reordenar o índice de acordo com a ordem desejada\n",
        "media_por_dia_da_semana = media_por_dia_da_semana.reindex(ordem_dias_da_semana)\n",
        "\n",
        "# Visualizar os resultados\n",
        "plt.figure(figsize=(10, 6))\n",
        "plt.scatter(media_por_dia_da_semana.index, media_por_dia_da_semana.values, color='skyblue')\n",
        "plt.title('Média do Fechamento por Dia da Semana')\n",
        "plt.xlabel('Dia da Semana')\n",
        "plt.ylabel('Média do Fechamento')\n",
        "plt.xticks(rotation=45)\n",
        "plt.grid(axis='y', linestyle='--', alpha=0.7)\n",
        "plt.show()"
      ],
      "metadata": {
        "id": "Fe5a6wHsAiRx",
        "colab": {
          "base_uri": "https://localhost:8080/",
          "height": 617
        },
        "outputId": "696c3f38-6c59-48c1-a604-f8ae24fb69fe"
      },
      "execution_count": null,
      "outputs": [
        {
          "output_type": "display_data",
          "data": {
            "text/plain": [
              "<Figure size 1000x600 with 1 Axes>"
            ],
            "image/png": "[encoded data removed]"
          },
          "metadata": {}
        }
      ]
    },
    {
      "cell_type": "markdown",
      "source": [
        "5. Qual moeda se mostra mais interessante em relação à valorização pela análise da série histórica?"
      ],
      "metadata": {
        "id": "aIK2nivt1EK4"
      }
    },
    {
      "cell_type": "code",
      "source": [
        "import pandas as pd\n",
        "\n",
        "# Assuming you already have the DataFrame df with the columns 'Date', 'Name', and 'Close'\n",
        "\n",
        "# Sort the DataFrame by name and date\n",
        "df = df.sort_values(by=['Name', 'Date'])\n",
        "\n",
        "# Calculate daily returns\n",
        "df['Daily_Return'] = df.groupby('Name')['Close'].pct_change()\n",
        "df['Cumulative_Return'] = (1 + df['Daily_Return']).cumprod()\n",
        "\n",
        "# Calculate the final cumulative return for each cryptocurrency\n",
        "final_cumulative_returns = df.groupby('Name')['Cumulative_Return'].last()\n",
        "\n",
        "# Identify the best-performing cryptocurrency\n",
        "best_performing_crypto = final_cumulative_returns.idxmax()\n",
        "\n",
        "print(f'A criptomoeda mais interessante em relação à valorização foi: {best_performing_crypto}')"
      ],
      "metadata": {
        "id": "cW5cdg0SLW4t",
        "colab": {
          "base_uri": "https://localhost:8080/"
        },
        "outputId": "2b3b43f2-355e-4dc0-cb04-489f50292b7c"
      },
      "execution_count": null,
      "outputs": [
        {
          "output_type": "stream",
          "name": "stdout",
          "text": [
            "A criptomoeda mais interessante em relação à valorização foi: Ethereum\n"
          ]
        }
      ]
    },
    {
      "cell_type": "markdown",
      "source": [
        "6.  Qual moeda se mostra menos interessante em relação à valorização pela análise da série histórica?"
      ],
      "metadata": {
        "id": "huWy04Eg1KkX"
      }
    },
    {
      "cell_type": "code",
      "source": [
        "import pandas as pd\n",
        "\n",
        "# Supondo que você já tenha o DataFrame df com as colunas 'Date', 'Name', 'Close'\n",
        "\n",
        "# Sortear o DataFrame por nome e data\n",
        "df = df.sort_values(by=['Name', 'Date'])\n",
        "\n",
        "# Calcular os retornos diários\n",
        "df['Daily_Return'] = df.groupby('Name')['Close'].pct_change()\n",
        "df['Cumulative_Return'] = (1 + df['Daily_Return']).cumprod()\n",
        "\n",
        "# Calcular o retorno acumulado final para cada criptomoeda\n",
        "final_cumulative_returns = df.groupby('Name')['Cumulative_Return'].last()\n",
        "\n",
        "# Identificar a criptomoeda menos interessante\n",
        "least_interesting_crypto = final_cumulative_returns.idxmin()\n",
        "\n",
        "print(f'A criptomoeda menos interessante em relação à valorização foi: {least_interesting_crypto}')"
      ],
      "metadata": {
        "colab": {
          "base_uri": "https://localhost:8080/"
        },
        "id": "y-m6t-3X1Qc6",
        "outputId": "17b84b81-34f1-4c0c-fa06-291a931dcd16"
      },
      "execution_count": null,
      "outputs": [
        {
          "output_type": "stream",
          "name": "stdout",
          "text": [
            "A criptomoeda menos interessante em relação à valorização foi: Aave\n"
          ]
        }
      ]
    },
    {
      "cell_type": "markdown",
      "source": [
        "7. Existe correlação entre os valores para todas as criptomoedas?"
      ],
      "metadata": {
        "id": "RelTHZg01WuZ"
      }
    },
    {
      "cell_type": "code",
      "source": [
        "import pandas as pd\n",
        "\n",
        "df = df.sort_values(by=['Name', 'Date'])\n",
        "\n",
        "# Pivotando o DataFrame para ter 'Symbol' como índice e 'Close' como valores\n",
        "pivot_df = df.pivot(index='Date', columns='Symbol', values='Close')\n",
        "\n",
        "# Calculando a matriz de correlação\n",
        "correlation_matrix = pivot_df.corr()\n",
        "\n",
        "# Imprimindo a matriz de correlação\n",
        "print(\"Matriz de Correlação entre Criptomoedas:\")\n",
        "print(correlation_matrix)"
      ],
      "metadata": {
        "colab": {
          "base_uri": "https://localhost:8080/"
        },
        "id": "Yhc28NI21ZOi",
        "outputId": "d5d4ed8e-bfd2-4fdf-9ef7-018a0b43669e"
      },
      "execution_count": null,
      "outputs": [
        {
          "output_type": "stream",
          "name": "stdout",
          "text": [
            "Matriz de Correlação entre Criptomoedas:\n",
            "Symbol      AAVE       ADA      ATOM       BNB       BTC       CRO      DOGE  \\\n",
            "Symbol                                                                         \n",
            "AAVE    1.000000  0.839792  0.907634  0.774158  0.877041  0.606600  0.609485   \n",
            "ADA     0.839792  1.000000  0.899815  0.893322  0.855017  0.616036  0.830919   \n",
            "ATOM    0.907634  0.899815  1.000000  0.902092  0.937844  0.688902  0.706766   \n",
            "BNB     0.774158  0.893322  0.902092  1.000000  0.856401  0.625584  0.889387   \n",
            "BTC     0.877041  0.855017  0.937844  0.856401  1.000000  0.669825  0.648206   \n",
            "CRO     0.606600  0.616036  0.688902  0.625584  0.669825  1.000000  0.427782   \n",
            "DOGE    0.609485  0.830919  0.706766  0.889387  0.648206  0.427782  1.000000   \n",
            "EOS     0.737519  0.306933  0.591838  0.152798  0.117230  0.328249  0.173600   \n",
            "ETH     0.868677  0.960793  0.907322  0.904260  0.904147  0.608807  0.837741   \n",
            "LINK    0.919572  0.810504  0.926709  0.869329  0.933915  0.739518  0.730575   \n",
            "\n",
            "Symbol       EOS       ETH      LINK  \n",
            "Symbol                                \n",
            "AAVE    0.737519  0.868677  0.919572  \n",
            "ADA     0.306933  0.960793  0.810504  \n",
            "ATOM    0.591838  0.907322  0.926709  \n",
            "BNB     0.152798  0.904260  0.869329  \n",
            "BTC     0.117230  0.904147  0.933915  \n",
            "CRO     0.328249  0.608807  0.739518  \n",
            "DOGE    0.173600  0.837741  0.730575  \n",
            "EOS     1.000000  0.321868 -0.029477  \n",
            "ETH     0.321868  1.000000  0.862913  \n",
            "LINK   -0.029477  0.862913  1.000000  \n"
          ]
        }
      ]
    },
    {
      "cell_type": "markdown",
      "source": [
        "8. Qual a volatilidade de cada moeda?"
      ],
      "metadata": {
        "id": "D7QIRiQJCJF5"
      }
    },
    {
      "cell_type": "code",
      "source": [
        "# Calcula a volatilidade para cada criptomoeda\n",
        "# Multiplica por 100 para se tornar porcentagem\n",
        "df['Volatilidade'] = (df['High'] - df['Low']) / df['Open']\n",
        "volatilidade = df.groupby('Name')['Volatilidade'].mean() * 100\n",
        "\n",
        "# Mantém apenas duas casas decimais após a vírgula\n",
        "volatilidade = volatilidade.round(2)\n",
        "\n",
        "# Adiciona o símbolo de porcentagem ao output\n",
        "volatilidade = volatilidade.apply(lambda x: f'{x}%')\n",
        "\n",
        "print(\"\\nNíveis médios de volatilidade para cada criptomoeda (em porcentagem):\")\n",
        "print(volatilidade)\n",
        "\n",
        "# Plota um gráfico para a volatilidade\n",
        "#Remove o símbolo de porcentagem para plotar\n",
        "volatilidade = volatilidade.str.rstrip('%').astype('float')\n",
        "volatilidade.sort_values().plot(kind='barh', figsize=(10, 6))\n",
        "plt.xlabel('Volatilidade (%)')\n",
        "plt.title('Volatilidade média para cada criptomoeda')\n",
        "plt.show()"
      ],
      "metadata": {
        "id": "UM7sF0XJCJOA",
        "colab": {
          "base_uri": "https://localhost:8080/",
          "height": 808
        },
        "outputId": "889576af-8b60-4082-a053-5761b25d9c47"
      },
      "execution_count": null,
      "outputs": [
        {
          "output_type": "stream",
          "name": "stdout",
          "text": [
            "\n",
            "Níveis médios de volatilidade para cada criptomoeda (em porcentagem):\n",
            "Name\n",
            "Aave               13.41%\n",
            "Binance Coin        8.89%\n",
            "Bitcoin             4.98%\n",
            "Cardano             9.22%\n",
            "Chainlink          11.16%\n",
            "Cosmos              9.89%\n",
            "Crypto.com Coin     8.76%\n",
            "Dogecoin             8.9%\n",
            "EOS                 8.94%\n",
            "Ethereum            7.67%\n",
            "Name: Volatilidade, dtype: object\n"
          ]
        },
        {
          "output_type": "display_data",
          "data": {
            "text/plain": [
              "<Figure size 1000x600 with 1 Axes>"
            ],
            "image/png": "[encoded data removed]"
          },
          "metadata": {}
        }
      ]
    }
  ]
}